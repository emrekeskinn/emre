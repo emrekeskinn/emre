{
 "cells": [
  {
   "cell_type": "code",
   "execution_count": 1,
   "metadata": {},
   "outputs": [
    {
     "name": "stdout",
     "output_type": "stream",
     "text": [
      " enter the first number: 1\n",
      " enter the second number: 6\n",
      " enter the third number: 8\n",
      " the first root of this function:  -2.0\n",
      " the second root of this function:  -4.0\n"
     ]
    }
   ],
   "source": [
    "a =int(input(' enter the first number: '))\n",
    "b =int(input(' enter the second number: '))\n",
    "c =int(input(' enter the third number: '))\n",
    "Discriminant=b**2-4*a*c\n",
    "print(' the first root of this function: ', (-b + Discriminant**0.5)/(2*a))\n",
    "print(' the second root of this function: ',  (-b - Discriminant**0.5)/(2*a))"
   ]
  },
  {
   "cell_type": "code",
   "execution_count": null,
   "metadata": {},
   "outputs": [],
   "source": []
  }
 ],
 "metadata": {
  "kernelspec": {
   "display_name": "Python 3",
   "language": "python",
   "name": "python3"
  },
  "language_info": {
   "codemirror_mode": {
    "name": "ipython",
    "version": 3
   },
   "file_extension": ".py",
   "mimetype": "text/x-python",
   "name": "python",
   "nbconvert_exporter": "python",
   "pygments_lexer": "ipython3",
   "version": "3.6.5"
  }
 },
 "nbformat": 4,
 "nbformat_minor": 2
}
