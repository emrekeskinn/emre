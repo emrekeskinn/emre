{
 "cells": [
  {
   "cell_type": "code",
   "execution_count": 3,
   "metadata": {},
   "outputs": [
    {
     "name": "stdout",
     "output_type": "stream",
     "text": [
      "1,2,3 sayısından birini seçiniz aksi takdirde yanlış gireceksiniz \n",
      "3\n",
      "Doğru programı seçtiniz\n",
      "Bu kısımda altı tane numara isteyecek o 6 numaranın aritmetik ortalaması hesaplanacak\n",
      " ilk değeri gir 10\n",
      " ikinci değeri gir 15\n",
      " üçüncü değeri gir 10\n",
      " dördüncü değeri gir 15\n",
      " beşinci değeri gir 10\n",
      " altıncı değeri gir 15\n",
      "aritmetik ortalama 12.5\n"
     ]
    }
   ],
   "source": [
    "a =float(input(\"1,2,3 sayısından birini seçiniz aksi takdirde yanlış gireceksiniz \\n\"))\n",
    "if a == 1:\n",
    "    print(\"Doğru programı seçtiniz\")\n",
    "    print(\"Bu kısımda hipotenüs hesaplanacak\")\n",
    "    a=int(input(\" ilk değeri gir \"))\n",
    "    b=int(input(\" ikinci değeri gir \"))\n",
    "    hipotenüs = (a**2 + b**2)**(0.5)\n",
    "    print(\" sonuç: \", hipotenüs)\n",
    "elif a == 2:\n",
    "    print(\"Doğru programı seçtiniz\")\n",
    "    print(\"Bu kısımda kullanıcıdan bir numara girmesi istenecek ve o numarayı girdikten sonra birden başlayıp kullanıcının girdiği noktaya kadar tüm numaralar ekranda gösterilecek\")\n",
    "    x = int(input(\" x değeri giriniz \"))\n",
    "    i=1\n",
    "    while(i<=x):\n",
    "        print(i)\n",
    "        i=i+1\n",
    "elif a == 3:\n",
    "    print(\"Doğru programı seçtiniz\")\n",
    "    print(\"Bu kısımda altı tane numara isteyecek o 6 numaranın aritmetik ortalaması hesaplanacak\")\n",
    "    numara1=int(input(\" ilk değeri gir \"))\n",
    "    numara2=int(input(\" ikinci değeri gir \"))\n",
    "    numara3=int(input(\" üçüncü değeri gir \"))\n",
    "    numara4=int(input(\" dördüncü değeri gir \"))\n",
    "    numara5=int(input(\" beşinci değeri gir \"))\n",
    "    numara6=int(input(\" altıncı değeri gir \"))\n",
    "    result_of_aritmetik=((numara1+numara2+numara3+numara4+numara5+numara6)/6)\n",
    "    print(\"aritmetik ortalama\" , result_of_aritmetik)\n",
    "else :\n",
    "    print(\"Yanlış girdiniz , tekrar başlatmalısınız\")"
   ]
  },
  {
   "cell_type": "code",
   "execution_count": null,
   "metadata": {},
   "outputs": [],
   "source": []
  }
 ],
 "metadata": {
  "kernelspec": {
   "display_name": "Python 3",
   "language": "python",
   "name": "python3"
  },
  "language_info": {
   "codemirror_mode": {
    "name": "ipython",
    "version": 3
   },
   "file_extension": ".py",
   "mimetype": "text/x-python",
   "name": "python",
   "nbconvert_exporter": "python",
   "pygments_lexer": "ipython3",
   "version": "3.6.5"
  }
 },
 "nbformat": 4,
 "nbformat_minor": 2
}
